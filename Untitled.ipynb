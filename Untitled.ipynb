{
 "cells": [
  {
   "cell_type": "code",
   "execution_count": 9,
   "metadata": {},
   "outputs": [
    {
     "ename": "ModuleNotFoundError",
     "evalue": "No module named 'cv2'",
     "output_type": "error",
     "traceback": [
      "\u001b[1;31m---------------------------------------------------------------------------\u001b[0m",
      "\u001b[1;31mModuleNotFoundError\u001b[0m                       Traceback (most recent call last)",
      "\u001b[1;32m<ipython-input-9-ef785447971e>\u001b[0m in \u001b[0;36m<module>\u001b[1;34m\u001b[0m\n\u001b[1;32m----> 1\u001b[1;33m \u001b[1;32mimport\u001b[0m \u001b[0mcv2\u001b[0m\u001b[1;33m\u001b[0m\u001b[1;33m\u001b[0m\u001b[0m\n\u001b[0m\u001b[0;32m      2\u001b[0m \u001b[1;32mimport\u001b[0m \u001b[0mimageio\u001b[0m\u001b[1;33m\u001b[0m\u001b[1;33m\u001b[0m\u001b[0m\n\u001b[0;32m      3\u001b[0m \u001b[1;32mimport\u001b[0m \u001b[0murllib\u001b[0m\u001b[1;33m.\u001b[0m\u001b[0mrequest\u001b[0m\u001b[1;33m\u001b[0m\u001b[1;33m\u001b[0m\u001b[0m\n\u001b[0;32m      4\u001b[0m \u001b[1;33m\u001b[0m\u001b[0m\n\u001b[0;32m      5\u001b[0m \u001b[0murl\u001b[0m \u001b[1;33m=\u001b[0m \u001b[1;34m\"https://media.giphy.com/media/7kn27lnYSAE9O/giphy.gif\"\u001b[0m\u001b[1;33m\u001b[0m\u001b[1;33m\u001b[0m\u001b[0m\n",
      "\u001b[1;31mModuleNotFoundError\u001b[0m: No module named 'cv2'"
     ]
    }
   ],
   "source": [
    "import cv2\n",
    "import imageio\n",
    "import urllib.request\n",
    "\n",
    "url = \"https://media.giphy.com/media/7kn27lnYSAE9O/giphy.gif\"\n",
    "fname = \"tmp.gif\"\n",
    "\n",
    "## Read the gif from the web, save to the disk\n",
    "imdata = urllib.request.urlopen(url).read()\n",
    "imbytes = bytearray(imdata)\n",
    "open(fname,\"wb+\").write(imdata)\n",
    "\n",
    "## Read the gif from disk to `RGB`s using `imageio.miread` \n",
    "gif = imageio.mimread(fname)\n",
    "nums = len(gif)\n",
    "print(\"Total {} frames in the gif!\".format(nums))\n",
    "\n",
    "# convert form RGB to BGR \n",
    "imgs = [cv2.cvtColor(img, cv2.COLOR_RGB2BGR) for img in gif]\n",
    "\n",
    "## Display the gif\n",
    "i = 0\n",
    "\n",
    "while True:\n",
    "    cv2.imshow(\"gif\", imgs[i])\n",
    "    if cv2.waitKey(100)&0xFF == 27:\n",
    "        break\n",
    "    i = (i+1)%nums\n",
    "cv2.destroyAllWindows()"
   ]
  }
 ],
 "metadata": {
  "kernelspec": {
   "display_name": "Python 3",
   "language": "python",
   "name": "python3"
  },
  "language_info": {
   "codemirror_mode": {
    "name": "ipython",
    "version": 3
   },
   "file_extension": ".py",
   "mimetype": "text/x-python",
   "name": "python",
   "nbconvert_exporter": "python",
   "pygments_lexer": "ipython3",
   "version": "3.7.4"
  }
 },
 "nbformat": 4,
 "nbformat_minor": 2
}
